{
 "cells": [
  {
   "cell_type": "code",
   "execution_count": 1,
   "id": "d2faaabc",
   "metadata": {},
   "outputs": [
    {
     "data": {
      "text/plain": [
       "'\\n\\nMason Lee\\nMA305 Image Processing Project\\n\\nContains linefinder function and runs a test case.\\n\\n'"
      ]
     },
     "execution_count": 1,
     "metadata": {},
     "output_type": "execute_result"
    }
   ],
   "source": [
    "\"\"\"\n",
    "\n",
    "Mason Lee\n",
    "MA305 Image Processing Project\n",
    "\n",
    "Contains linefinder function and runs a test case.\n",
    "\n",
    "\"\"\""
   ]
  },
  {
   "cell_type": "code",
   "execution_count": 2,
   "id": "f441061b",
   "metadata": {},
   "outputs": [],
   "source": [
    "import cv2\n",
    "import numpy as np\n",
    "import matplotlib.pyplot as plt\n",
    "from PIL import Image, ImageFilter\n",
    "%matplotlib inline\n",
    "import matplotlib\n",
    "matplotlib.rcParams['figure.figsize'] = (9.0, 9.0)"
   ]
  },
  {
   "cell_type": "code",
   "execution_count": 3,
   "id": "00c32c24",
   "metadata": {},
   "outputs": [],
   "source": [
    "def linefinder(path):\n",
    "    # read image and find edges\n",
    "    img = Image.open(r'{}'.format(path))\n",
    "    img_gray = img.convert('L') # L = luminance\n",
    "    img_edg = img_gray.filter(ImageFilter.FIND_EDGES)\n",
    "    img_edg.save(r\"img_edges.jpg\")\n",
    "    \n",
    "    # read new image and use Otsu Threshold\n",
    "    img_edg1 = cv2.imread('img_edges.jpg')\n",
    "    img_edg1_gray = cv2.cvtColor(img_edg1, cv2.COLOR_BGR2GRAY)\n",
    "    thresh, img_otsu = cv2.threshold(img_edg1_gray, 0, 255, cv2.THRESH_OTSU)\n",
    "    cv2.imwrite('img_otsu.jpg', img_otsu)\n",
    "    \n",
    "    # transpose new image\n",
    "    otsuT = img_otsu.T\n",
    "    cv2.imwrite('transposed_img_otsu.jpg', otsuT)\n",
    "    \n",
    "    # get image dimensions and find line\n",
    "    img_size = img_otsu.shape\n",
    "    img_line = np.zeros((img_size[0], img_size[1]))\n",
    "    for row, i in enumerate(otsuT):\n",
    "        i1 = i[3:] # buffer, edge image includes\n",
    "        for col, j in enumerate(i1):\n",
    "            if j == 255:\n",
    "                img_line[col][row] = j\n",
    "                break\n",
    "                \n",
    "    cv2.imwrite('img_line.jpg', img_line)"
   ]
  },
  {
   "cell_type": "code",
   "execution_count": 4,
   "id": "16b97e61",
   "metadata": {},
   "outputs": [],
   "source": [
    "linefinder(\"Ripon_Building_panorama.jpg\")"
   ]
  },
  {
   "cell_type": "code",
   "execution_count": null,
   "id": "3514395e",
   "metadata": {},
   "outputs": [],
   "source": []
  }
 ],
 "metadata": {
  "kernelspec": {
   "display_name": "Python 3 (ipykernel)",
   "language": "python",
   "name": "python3"
  },
  "language_info": {
   "codemirror_mode": {
    "name": "ipython",
    "version": 3
   },
   "file_extension": ".py",
   "mimetype": "text/x-python",
   "name": "python",
   "nbconvert_exporter": "python",
   "pygments_lexer": "ipython3",
   "version": "3.9.7"
  }
 },
 "nbformat": 4,
 "nbformat_minor": 5
}
